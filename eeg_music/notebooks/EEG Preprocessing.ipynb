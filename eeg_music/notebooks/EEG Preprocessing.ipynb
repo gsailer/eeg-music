{
 "cells": [
  {
   "cell_type": "markdown",
   "id": "8c3b9a0a-0844-4ae4-9a4d-94e074b4ff6f",
   "metadata": {},
   "source": [
    "# EEG Preprocessing"
   ]
  },
  {
   "cell_type": "markdown",
   "id": "e8989916-2bde-482f-90e9-0a64ec757b77",
   "metadata": {},
   "source": [
    "## Library Imports"
   ]
  },
  {
   "cell_type": "code",
   "execution_count": 36,
   "id": "4d8b7db1-ca8a-4f3d-8c6a-649cf8c38752",
   "metadata": {},
   "outputs": [],
   "source": [
    "# pip install pandas\n",
    "# pip install numpy\n",
    "# pip install mne\n",
    "# pip install scikit-learn"
   ]
  },
  {
   "cell_type": "code",
   "execution_count": 37,
   "id": "26ea6a1b-417e-46a5-965b-bcada0461030",
   "metadata": {
    "scrolled": true
   },
   "outputs": [
    {
     "name": "stdout",
     "output_type": "stream",
     "text": [
      "Collecting scikit-learn\n",
      "  Obtaining dependency information for scikit-learn from https://files.pythonhosted.org/packages/40/77/91f92b2fddbd14201bf36cd0c0e7279f1501a88e7a00ef11261c4b95bb7a/scikit_learn-1.4.2-cp312-cp312-win_amd64.whl.metadata\n",
      "  Downloading scikit_learn-1.4.2-cp312-cp312-win_amd64.whl.metadata (11 kB)\n",
      "Requirement already satisfied: numpy>=1.19.5 in c:\\users\\fabiostano\\onedrive\\dokumente\\00_kit\\05_mppb\\03_data analysis\\venv_12\\lib\\site-packages (from scikit-learn) (1.26.4)\n",
      "Requirement already satisfied: scipy>=1.6.0 in c:\\users\\fabiostano\\onedrive\\dokumente\\00_kit\\05_mppb\\03_data analysis\\venv_12\\lib\\site-packages (from scikit-learn) (1.13.0)\n",
      "Collecting joblib>=1.2.0 (from scikit-learn)\n",
      "  Obtaining dependency information for joblib>=1.2.0 from https://files.pythonhosted.org/packages/91/29/df4b9b42f2be0b623cbd5e2140cafcaa2bef0759a00b7b70104dcfe2fb51/joblib-1.4.2-py3-none-any.whl.metadata\n",
      "  Downloading joblib-1.4.2-py3-none-any.whl.metadata (5.4 kB)\n",
      "Collecting threadpoolctl>=2.0.0 (from scikit-learn)\n",
      "  Obtaining dependency information for threadpoolctl>=2.0.0 from https://files.pythonhosted.org/packages/4b/2c/ffbf7a134b9ab11a67b0cf0726453cedd9c5043a4fe7a35d1cefa9a1bcfb/threadpoolctl-3.5.0-py3-none-any.whl.metadata\n",
      "  Downloading threadpoolctl-3.5.0-py3-none-any.whl.metadata (13 kB)\n",
      "Downloading scikit_learn-1.4.2-cp312-cp312-win_amd64.whl (10.6 MB)\n",
      "   ---------------------------------------- 0.0/10.6 MB ? eta -:--:--\n",
      "   ---------------------------------------- 0.0/10.6 MB ? eta -:--:--\n",
      "   ---------------------------------------- 0.0/10.6 MB 660.6 kB/s eta 0:00:16\n",
      "   ---------------------------------------- 0.0/10.6 MB 487.6 kB/s eta 0:00:22\n",
      "   ---------------------------------------- 0.1/10.6 MB 581.0 kB/s eta 0:00:19\n",
      "    --------------------------------------- 0.1/10.6 MB 708.1 kB/s eta 0:00:15\n",
      "    --------------------------------------- 0.2/10.6 MB 831.5 kB/s eta 0:00:13\n",
      "   - -------------------------------------- 0.3/10.6 MB 1.1 MB/s eta 0:00:10\n",
      "   - -------------------------------------- 0.4/10.6 MB 1.1 MB/s eta 0:00:10\n",
      "   - -------------------------------------- 0.4/10.6 MB 1.1 MB/s eta 0:00:09\n",
      "   -- ------------------------------------- 0.5/10.6 MB 1.2 MB/s eta 0:00:09\n",
      "   -- ------------------------------------- 0.6/10.6 MB 1.3 MB/s eta 0:00:08\n",
      "   -- ------------------------------------- 0.7/10.6 MB 1.3 MB/s eta 0:00:08\n",
      "   --- ------------------------------------ 0.8/10.6 MB 1.4 MB/s eta 0:00:07\n",
      "   --- ------------------------------------ 0.9/10.6 MB 1.4 MB/s eta 0:00:07\n",
      "   --- ------------------------------------ 1.0/10.6 MB 1.5 MB/s eta 0:00:07\n",
      "   --- ------------------------------------ 1.0/10.6 MB 1.5 MB/s eta 0:00:07\n",
      "   ---- ----------------------------------- 1.1/10.6 MB 1.4 MB/s eta 0:00:07\n",
      "   ---- ----------------------------------- 1.2/10.6 MB 1.5 MB/s eta 0:00:07\n",
      "   ---- ----------------------------------- 1.3/10.6 MB 1.5 MB/s eta 0:00:07\n",
      "   ----- ---------------------------------- 1.4/10.6 MB 1.5 MB/s eta 0:00:07\n",
      "   ----- ---------------------------------- 1.5/10.6 MB 1.6 MB/s eta 0:00:06\n",
      "   ----- ---------------------------------- 1.5/10.6 MB 1.6 MB/s eta 0:00:06\n",
      "   ------ --------------------------------- 1.6/10.6 MB 1.6 MB/s eta 0:00:06\n",
      "   ------ --------------------------------- 1.7/10.6 MB 1.6 MB/s eta 0:00:06\n",
      "   ------ --------------------------------- 1.8/10.6 MB 1.6 MB/s eta 0:00:06\n",
      "   ------- -------------------------------- 1.9/10.6 MB 1.6 MB/s eta 0:00:06\n",
      "   ------- -------------------------------- 2.1/10.6 MB 1.7 MB/s eta 0:00:06\n",
      "   -------- ------------------------------- 2.2/10.6 MB 1.7 MB/s eta 0:00:05\n",
      "   -------- ------------------------------- 2.3/10.6 MB 1.7 MB/s eta 0:00:05\n",
      "   --------- ------------------------------ 2.4/10.6 MB 1.7 MB/s eta 0:00:05\n",
      "   --------- ------------------------------ 2.5/10.6 MB 1.8 MB/s eta 0:00:05\n",
      "   --------- ------------------------------ 2.6/10.6 MB 1.8 MB/s eta 0:00:05\n",
      "   ---------- ----------------------------- 2.7/10.6 MB 1.8 MB/s eta 0:00:05\n",
      "   ---------- ----------------------------- 2.8/10.6 MB 1.8 MB/s eta 0:00:05\n",
      "   ---------- ----------------------------- 2.9/10.6 MB 1.8 MB/s eta 0:00:05\n",
      "   ----------- ---------------------------- 3.0/10.6 MB 1.8 MB/s eta 0:00:05\n",
      "   ----------- ---------------------------- 3.1/10.6 MB 1.8 MB/s eta 0:00:05\n",
      "   ------------ --------------------------- 3.2/10.6 MB 1.9 MB/s eta 0:00:04\n",
      "   ------------ --------------------------- 3.3/10.6 MB 1.9 MB/s eta 0:00:04\n",
      "   ------------ --------------------------- 3.4/10.6 MB 1.9 MB/s eta 0:00:04\n",
      "   ------------- -------------------------- 3.5/10.6 MB 1.9 MB/s eta 0:00:04\n",
      "   ------------- -------------------------- 3.6/10.6 MB 1.9 MB/s eta 0:00:04\n",
      "   -------------- ------------------------- 3.7/10.6 MB 1.9 MB/s eta 0:00:04\n",
      "   -------------- ------------------------- 3.9/10.6 MB 1.9 MB/s eta 0:00:04\n",
      "   --------------- ------------------------ 4.0/10.6 MB 1.9 MB/s eta 0:00:04\n",
      "   --------------- ------------------------ 4.1/10.6 MB 1.9 MB/s eta 0:00:04\n",
      "   --------------- ------------------------ 4.2/10.6 MB 2.0 MB/s eta 0:00:04\n",
      "   ---------------- ----------------------- 4.3/10.6 MB 2.0 MB/s eta 0:00:04\n",
      "   ---------------- ----------------------- 4.4/10.6 MB 2.0 MB/s eta 0:00:04\n",
      "   ---------------- ----------------------- 4.5/10.6 MB 2.0 MB/s eta 0:00:04\n",
      "   ----------------- ---------------------- 4.6/10.6 MB 2.0 MB/s eta 0:00:04\n",
      "   ----------------- ---------------------- 4.7/10.6 MB 2.0 MB/s eta 0:00:03\n",
      "   ------------------ --------------------- 4.8/10.6 MB 2.0 MB/s eta 0:00:03\n",
      "   ------------------ --------------------- 4.8/10.6 MB 1.9 MB/s eta 0:00:03\n",
      "   ------------------ --------------------- 5.0/10.6 MB 2.0 MB/s eta 0:00:03\n",
      "   ------------------- -------------------- 5.1/10.6 MB 2.0 MB/s eta 0:00:03\n",
      "   ------------------- -------------------- 5.2/10.6 MB 2.0 MB/s eta 0:00:03\n",
      "   -------------------- ------------------- 5.3/10.6 MB 2.0 MB/s eta 0:00:03\n",
      "   -------------------- ------------------- 5.4/10.6 MB 2.0 MB/s eta 0:00:03\n",
      "   -------------------- ------------------- 5.5/10.6 MB 2.0 MB/s eta 0:00:03\n",
      "   --------------------- ------------------ 5.7/10.6 MB 2.0 MB/s eta 0:00:03\n",
      "   --------------------- ------------------ 5.8/10.6 MB 2.0 MB/s eta 0:00:03\n",
      "   ---------------------- ----------------- 5.9/10.6 MB 2.0 MB/s eta 0:00:03\n",
      "   ---------------------- ----------------- 6.0/10.6 MB 2.0 MB/s eta 0:00:03\n",
      "   ---------------------- ----------------- 6.1/10.6 MB 2.0 MB/s eta 0:00:03\n",
      "   ----------------------- ---------------- 6.2/10.6 MB 2.0 MB/s eta 0:00:03\n",
      "   ----------------------- ---------------- 6.2/10.6 MB 2.0 MB/s eta 0:00:03\n",
      "   ------------------------ --------------- 6.4/10.6 MB 2.0 MB/s eta 0:00:03\n",
      "   ------------------------ --------------- 6.4/10.6 MB 2.0 MB/s eta 0:00:03\n",
      "   ------------------------ --------------- 6.5/10.6 MB 2.0 MB/s eta 0:00:03\n",
      "   ------------------------- -------------- 6.7/10.6 MB 2.0 MB/s eta 0:00:02\n",
      "   ------------------------- -------------- 6.7/10.6 MB 2.0 MB/s eta 0:00:02\n",
      "   ------------------------- -------------- 6.9/10.6 MB 2.0 MB/s eta 0:00:02\n",
      "   -------------------------- ------------- 6.9/10.6 MB 2.0 MB/s eta 0:00:02\n",
      "   -------------------------- ------------- 7.1/10.6 MB 2.0 MB/s eta 0:00:02\n",
      "   --------------------------- ------------ 7.2/10.6 MB 2.0 MB/s eta 0:00:02\n",
      "   --------------------------- ------------ 7.3/10.6 MB 2.0 MB/s eta 0:00:02\n",
      "   --------------------------- ------------ 7.4/10.6 MB 2.1 MB/s eta 0:00:02\n",
      "   ---------------------------- ----------- 7.5/10.6 MB 2.1 MB/s eta 0:00:02\n",
      "   ---------------------------- ----------- 7.6/10.6 MB 2.1 MB/s eta 0:00:02\n",
      "   ----------------------------- ---------- 7.7/10.6 MB 2.1 MB/s eta 0:00:02\n",
      "   ----------------------------- ---------- 7.8/10.6 MB 2.1 MB/s eta 0:00:02\n",
      "   ----------------------------- ---------- 7.9/10.6 MB 2.1 MB/s eta 0:00:02\n",
      "   ------------------------------ --------- 8.1/10.6 MB 2.1 MB/s eta 0:00:02\n",
      "   ------------------------------ --------- 8.2/10.6 MB 2.1 MB/s eta 0:00:02\n",
      "   ------------------------------- -------- 8.2/10.6 MB 2.1 MB/s eta 0:00:02\n",
      "   ------------------------------- -------- 8.4/10.6 MB 2.1 MB/s eta 0:00:02\n",
      "   ------------------------------- -------- 8.4/10.6 MB 2.1 MB/s eta 0:00:02\n",
      "   -------------------------------- ------- 8.5/10.6 MB 2.1 MB/s eta 0:00:02\n",
      "   -------------------------------- ------- 8.6/10.6 MB 2.1 MB/s eta 0:00:01\n",
      "   --------------------------------- ------ 8.8/10.6 MB 2.1 MB/s eta 0:00:01\n",
      "   --------------------------------- ------ 8.9/10.6 MB 2.1 MB/s eta 0:00:01\n",
      "   --------------------------------- ------ 9.0/10.6 MB 2.1 MB/s eta 0:00:01\n",
      "   ---------------------------------- ----- 9.1/10.6 MB 2.1 MB/s eta 0:00:01\n",
      "   ---------------------------------- ----- 9.2/10.6 MB 2.1 MB/s eta 0:00:01\n",
      "   ----------------------------------- ---- 9.3/10.6 MB 2.1 MB/s eta 0:00:01\n",
      "   ----------------------------------- ---- 9.4/10.6 MB 2.1 MB/s eta 0:00:01\n",
      "   ----------------------------------- ---- 9.5/10.6 MB 2.1 MB/s eta 0:00:01\n",
      "   ------------------------------------ --- 9.6/10.6 MB 2.1 MB/s eta 0:00:01\n",
      "   ------------------------------------ --- 9.7/10.6 MB 2.1 MB/s eta 0:00:01\n",
      "   ------------------------------------ --- 9.8/10.6 MB 2.1 MB/s eta 0:00:01\n",
      "   ------------------------------------- -- 9.8/10.6 MB 2.1 MB/s eta 0:00:01\n",
      "   ------------------------------------- -- 9.9/10.6 MB 2.1 MB/s eta 0:00:01\n",
      "   ------------------------------------- -- 10.0/10.6 MB 2.1 MB/s eta 0:00:01\n",
      "   ------------------------------------- -- 10.0/10.6 MB 2.1 MB/s eta 0:00:01\n",
      "   -------------------------------------- - 10.1/10.6 MB 2.1 MB/s eta 0:00:01\n",
      "   -------------------------------------- - 10.2/10.6 MB 2.1 MB/s eta 0:00:01\n",
      "   -------------------------------------- - 10.2/10.6 MB 2.1 MB/s eta 0:00:01\n",
      "   ---------------------------------------  10.4/10.6 MB 2.1 MB/s eta 0:00:01\n",
      "   ---------------------------------------  10.4/10.6 MB 2.1 MB/s eta 0:00:01\n",
      "   ---------------------------------------  10.5/10.6 MB 2.1 MB/s eta 0:00:01\n",
      "   ---------------------------------------  10.6/10.6 MB 2.1 MB/s eta 0:00:01\n",
      "   ---------------------------------------- 10.6/10.6 MB 2.1 MB/s eta 0:00:00\n",
      "Downloading joblib-1.4.2-py3-none-any.whl (301 kB)\n",
      "   ---------------------------------------- 0.0/301.8 kB ? eta -:--:--\n",
      "   ----- ---------------------------------- 41.0/301.8 kB 1.9 MB/s eta 0:00:01\n",
      "   ----------------- ---------------------- 133.1/301.8 kB 2.6 MB/s eta 0:00:01\n",
      "   --------------------------- ------------ 204.8/301.8 kB 2.1 MB/s eta 0:00:01\n",
      "   ---------------------------------------  297.0/301.8 kB 1.8 MB/s eta 0:00:01\n",
      "   ---------------------------------------- 301.8/301.8 kB 1.9 MB/s eta 0:00:00\n",
      "Downloading threadpoolctl-3.5.0-py3-none-any.whl (18 kB)\n",
      "Installing collected packages: threadpoolctl, joblib, scikit-learn\n",
      "Successfully installed joblib-1.4.2 scikit-learn-1.4.2 threadpoolctl-3.5.0\n",
      "Note: you may need to restart the kernel to use updated packages.\n"
     ]
    },
    {
     "name": "stderr",
     "output_type": "stream",
     "text": [
      "\n",
      "[notice] A new release of pip is available: 23.2.1 -> 24.0\n",
      "[notice] To update, run: python.exe -m pip install --upgrade pip\n"
     ]
    }
   ],
   "source": [
    "pip install scikit-learn"
   ]
  },
  {
   "cell_type": "code",
   "execution_count": 14,
   "id": "c55f7841-b7a9-4582-908e-64f778b41186",
   "metadata": {},
   "outputs": [],
   "source": [
    "import pandas as pd\n",
    "import numpy as np\n",
    "import mne\n",
    "import datetime\n",
    "import os\n",
    "\n",
    "import matplotlib as mpl\n",
    "mpl.use('QtAgg')\n",
    "import matplotlib.pyplot as plt"
   ]
  },
  {
   "cell_type": "markdown",
   "id": "3924c0bc-14f3-4d37-a816-ad3f08733bae",
   "metadata": {},
   "source": [
    "## EEG Data Import"
   ]
  },
  {
   "cell_type": "code",
   "execution_count": 49,
   "id": "465c5408-1334-46bb-a0e2-0471f2aab160",
   "metadata": {},
   "outputs": [],
   "source": [
    "eeg_data_path = \"Data/UnicornRecorder_20240508_155309.csv\"\n",
    "otree_data_path = \"Data/all_apps_wide-2024-05-08.csv\"\n",
    "participant_id = \"e7rtpxhj\""
   ]
  },
  {
   "cell_type": "code",
   "execution_count": 50,
   "id": "865b032c-c5a9-49ef-bfa8-8b4a8448f31e",
   "metadata": {},
   "outputs": [],
   "source": [
    "# Load only the first 8 columns from the CSV (the EEG channels)\n",
    "raw_data = pd.read_csv(eeg_data_path, usecols=range(8))"
   ]
  },
  {
   "cell_type": "code",
   "execution_count": 51,
   "id": "905bc24e-0897-4062-a9db-ba983c923a92",
   "metadata": {},
   "outputs": [
    {
     "name": "stdout",
     "output_type": "stream",
     "text": [
      "Creating RawArray with float64 data, n_channels=8, n_times=650288\n",
      "    Range : 0 ... 650287 =      0.000 ...  2601.148 secs\n",
      "Ready.\n"
     ]
    },
    {
     "data": {
      "text/html": [
       "<details open>\n",
       "    <summary><strong>General</strong></summary>\n",
       "    <table class=\"table table-hover table-striped table-sm table-responsive small\">\n",
       "        <tr>\n",
       "            <th>Measurement date</th>\n",
       "            \n",
       "            <td>Unknown</td>\n",
       "            \n",
       "        </tr>\n",
       "        <tr>\n",
       "            <th>Experimenter</th>\n",
       "            \n",
       "            <td>Unknown</td>\n",
       "            \n",
       "        </tr>\n",
       "        <tr>\n",
       "            <th>Participant</th>\n",
       "            \n",
       "            <td>Unknown</td>\n",
       "            \n",
       "        </tr>\n",
       "    </table>\n",
       "    </details>\n",
       "    <details open>\n",
       "        <summary><strong>Channels</strong></summary>\n",
       "        <table class=\"table table-hover table-striped table-sm table-responsive small\">\n",
       "            <tr>\n",
       "                <th>Digitized points</th>\n",
       "                \n",
       "                <td>11 points</td>\n",
       "                \n",
       "            </tr>\n",
       "            <tr>\n",
       "                <th>Good channels</th>\n",
       "                <td>8 EEG</td>\n",
       "            </tr>\n",
       "            <tr>\n",
       "                <th>Bad channels</th>\n",
       "                <td>None</td>\n",
       "            </tr>\n",
       "            <tr>\n",
       "                <th>EOG channels</th>\n",
       "                <td>Not available</td>\n",
       "            </tr>\n",
       "            <tr>\n",
       "                <th>ECG channels</th>\n",
       "                <td>Not available</td>\n",
       "            </tr>\n",
       "        </table>\n",
       "        </details>\n",
       "        <details open>\n",
       "            <summary><strong>Data</strong></summary>\n",
       "            <table class=\"table table-hover table-striped table-sm table-responsive small\">\n",
       "                \n",
       "                <tr>\n",
       "                    <th>Sampling frequency</th>\n",
       "                    <td>250.00 Hz</td>\n",
       "                </tr>\n",
       "                \n",
       "                \n",
       "                <tr>\n",
       "                    <th>Highpass</th>\n",
       "                    <td>0.00 Hz</td>\n",
       "                </tr>\n",
       "                \n",
       "                \n",
       "                <tr>\n",
       "                    <th>Lowpass</th>\n",
       "                    <td>125.00 Hz</td>\n",
       "                </tr>\n",
       "                \n",
       "                \n",
       "                \n",
       "                \n",
       "                <tr>\n",
       "                    <th>Duration</th>\n",
       "                    <td>00:43:22 (HH:MM:SS)</td>\n",
       "                </tr>\n",
       "                \n",
       "            </table>\n",
       "            </details>"
      ],
      "text/plain": [
       "<RawArray | 8 x 650288 (2601.1 s), ~39.7 MB, data loaded>"
      ]
     },
     "execution_count": 51,
     "metadata": {},
     "output_type": "execute_result"
    }
   ],
   "source": [
    "# Specify our Channel Setup\n",
    "channel_names = ['F3', 'Fz', 'F4', 'T3', 'C3', 'C4', 'T4', 'Pz']\n",
    "channel_types = ['eeg'] * 8 \n",
    "\n",
    "# Transpose to shape (n_channels, n_samples)\n",
    "data = raw_data.values.T  \n",
    "\n",
    "# Create an Info object, necessary for creating a Raw object\n",
    "info = mne.create_info(ch_names=channel_names, sfreq=250, ch_types=channel_types)  # sfreq is the sampling frequency\n",
    "\n",
    "# Create the RawArray object\n",
    "raw = mne.io.RawArray(data, info)\n",
    "\n",
    "# Set Montage\n",
    "raw.set_montage('standard_1020')"
   ]
  },
  {
   "cell_type": "code",
   "execution_count": 52,
   "id": "88a824b4-b033-4b8c-8709-bf6f95fdae13",
   "metadata": {},
   "outputs": [
    {
     "name": "stdout",
     "output_type": "stream",
     "text": [
      "Effective window size : 8.192 (s)\n",
      "Plotting power spectral density (dB=True).\n"
     ]
    },
    {
     "name": "stderr",
     "output_type": "stream",
     "text": [
      "C:\\Users\\fabiostano\\AppData\\Local\\Temp\\ipykernel_14492\\4108630121.py:1: FutureWarning: The value of `amplitude='auto'` will be removed in MNE 1.8.0, and the new default will be `amplitude=False`.\n",
      "  raw.compute_psd().plot()\n"
     ]
    },
    {
     "data": {
      "text/plain": [
       "<MNELineFigure size 1000x350 with 2 Axes>"
      ]
     },
     "execution_count": 52,
     "metadata": {},
     "output_type": "execute_result"
    }
   ],
   "source": [
    "raw.compute_psd().plot()"
   ]
  },
  {
   "cell_type": "markdown",
   "id": "b1ea49cd-2d85-4d88-ad46-753e5ae8771e",
   "metadata": {},
   "source": [
    "### Timestamps\n",
    "\n",
    "This is an example for just using the preference as event labels for each song start. Depending on the Research Question you might have to change this. For example: Create just 2 labels for <= 4 and > 4; OR use the arousal or pleasure indications as labels.\n",
    "\n",
    "NOTE: We just have the starting time in seconds. This is very unprecise but should work if we leave out the first and last window of each song."
   ]
  },
  {
   "cell_type": "code",
   "execution_count": 53,
   "id": "0fcd5c7b-8f53-464b-99f5-3094d1ca178e",
   "metadata": {},
   "outputs": [],
   "source": [
    "# Extract the filename without extension\n",
    "filename = os.path.splitext(os.path.basename(eeg_data_path))[0]\n",
    "\n",
    "# Extract the date and time from the filename\n",
    "date_str = filename.split('_')[1]\n",
    "time_str = filename.split('_')[2]\n",
    "\n",
    "# Combine into a single datetime object\n",
    "start_datetime = datetime.datetime.strptime(date_str + time_str, '%Y%m%d%H%M%S')"
   ]
  },
  {
   "cell_type": "code",
   "execution_count": 54,
   "id": "e6167b6d-3f6e-473b-8afb-3b5dd393dc64",
   "metadata": {},
   "outputs": [
    {
     "data": {
      "text/html": [
       "<details open>\n",
       "    <summary><strong>General</strong></summary>\n",
       "    <table class=\"table table-hover table-striped table-sm table-responsive small\">\n",
       "        <tr>\n",
       "            <th>Measurement date</th>\n",
       "            \n",
       "            <td>Unknown</td>\n",
       "            \n",
       "        </tr>\n",
       "        <tr>\n",
       "            <th>Experimenter</th>\n",
       "            \n",
       "            <td>Unknown</td>\n",
       "            \n",
       "        </tr>\n",
       "        <tr>\n",
       "            <th>Participant</th>\n",
       "            \n",
       "            <td>Unknown</td>\n",
       "            \n",
       "        </tr>\n",
       "    </table>\n",
       "    </details>\n",
       "    <details open>\n",
       "        <summary><strong>Channels</strong></summary>\n",
       "        <table class=\"table table-hover table-striped table-sm table-responsive small\">\n",
       "            <tr>\n",
       "                <th>Digitized points</th>\n",
       "                \n",
       "                <td>11 points</td>\n",
       "                \n",
       "            </tr>\n",
       "            <tr>\n",
       "                <th>Good channels</th>\n",
       "                <td>8 EEG</td>\n",
       "            </tr>\n",
       "            <tr>\n",
       "                <th>Bad channels</th>\n",
       "                <td>None</td>\n",
       "            </tr>\n",
       "            <tr>\n",
       "                <th>EOG channels</th>\n",
       "                <td>Not available</td>\n",
       "            </tr>\n",
       "            <tr>\n",
       "                <th>ECG channels</th>\n",
       "                <td>Not available</td>\n",
       "            </tr>\n",
       "        </table>\n",
       "        </details>\n",
       "        <details open>\n",
       "            <summary><strong>Data</strong></summary>\n",
       "            <table class=\"table table-hover table-striped table-sm table-responsive small\">\n",
       "                \n",
       "                <tr>\n",
       "                    <th>Sampling frequency</th>\n",
       "                    <td>250.00 Hz</td>\n",
       "                </tr>\n",
       "                \n",
       "                \n",
       "                <tr>\n",
       "                    <th>Highpass</th>\n",
       "                    <td>0.00 Hz</td>\n",
       "                </tr>\n",
       "                \n",
       "                \n",
       "                <tr>\n",
       "                    <th>Lowpass</th>\n",
       "                    <td>125.00 Hz</td>\n",
       "                </tr>\n",
       "                \n",
       "                \n",
       "                \n",
       "                \n",
       "                <tr>\n",
       "                    <th>Duration</th>\n",
       "                    <td>00:43:22 (HH:MM:SS)</td>\n",
       "                </tr>\n",
       "                \n",
       "            </table>\n",
       "            </details>"
      ],
      "text/plain": [
       "<RawArray | 8 x 650288 (2601.1 s), ~39.7 MB, data loaded>"
      ]
     },
     "execution_count": 54,
     "metadata": {},
     "output_type": "execute_result"
    }
   ],
   "source": [
    "# Load the data\n",
    "events_df = pd.read_csv(otree_data_path)\n",
    "\n",
    "# Filter for the specific participant\n",
    "participant_events = events_df[events_df['participant.code'] == participant_id]\n",
    "\n",
    "# Columns for event timestamps and preference ratings\n",
    "event_time_columns = [f\"Music_Discovery.{i}.player.time_start\" for i in range(1, 41)]\n",
    "preference_columns = [f\"Music_Discovery.{i}.player.preference\" for i in range(1, 41)]\n",
    "\n",
    "# Extract event timestamps and preferences\n",
    "event_timestamps_unix = participant_events[event_time_columns].values[0]\n",
    "preferences = participant_events[preference_columns].values[0]\n",
    "\n",
    "# Convert Unix timestamps (in ms) to datetime objects\n",
    "event_times = [datetime.datetime.fromtimestamp(ts / 1000.0) for ts in event_timestamps_unix]\n",
    "\n",
    "# Calculate the time differences in seconds relative to EEG start time\n",
    "event_onsets = [(et - start_datetime).total_seconds() for et in event_times]\n",
    "\n",
    "# Create descriptions incorporating preference ratings\n",
    "descriptions = [int(pref) for pref in preferences]\n",
    "\n",
    "# Create annotations\n",
    "durations = [0] * 40  # Assuming instant events\n",
    "annotations = mne.Annotations(onset=event_onsets, duration=durations, description=descriptions)\n",
    "\n",
    "# Add annotations to the raw object\n",
    "raw.set_annotations(annotations)"
   ]
  },
  {
   "cell_type": "code",
   "execution_count": 55,
   "id": "ed8a567c-353f-41fd-a074-5031119a0614",
   "metadata": {},
   "outputs": [
    {
     "data": {
      "text/plain": [
       "<MNEBrowseFigure size 1920x1129 with 4 Axes>"
      ]
     },
     "execution_count": 55,
     "metadata": {},
     "output_type": "execute_result"
    },
    {
     "name": "stdout",
     "output_type": "stream",
     "text": [
      "Channels marked as bad:\n",
      "none\n"
     ]
    }
   ],
   "source": [
    "raw.plot()"
   ]
  },
  {
   "cell_type": "markdown",
   "id": "e788adcb-b018-4003-8d6b-0b98771bd00a",
   "metadata": {},
   "source": [
    "## EEG Preprocessing"
   ]
  },
  {
   "cell_type": "markdown",
   "id": "05d8b4cc-db04-497e-afac-900829e244bf",
   "metadata": {},
   "source": [
    "- High-pass filtering at 1 Hz and low-pass filtering at 40 Hz.\n",
    "- This can be played with. \n",
    "- I guess HP 0.1Hz - 1Hz; LP 30Hz - 100H could be feasible."
   ]
  },
  {
   "cell_type": "code",
   "execution_count": 56,
   "id": "429229ca-173e-4b76-be94-49c887fbf21d",
   "metadata": {},
   "outputs": [
    {
     "name": "stdout",
     "output_type": "stream",
     "text": [
      "Filtering raw data in 1 contiguous segment\n",
      "Setting up band-pass filter from 0.5 - 60 Hz\n",
      "\n",
      "FIR filter parameters\n",
      "---------------------\n",
      "Designing a one-pass, zero-phase, non-causal bandpass filter:\n",
      "- Windowed time-domain design (firwin) method\n",
      "- Hamming window with 0.0194 passband ripple and 53 dB stopband attenuation\n",
      "- Lower passband edge: 0.50\n",
      "- Lower transition bandwidth: 0.50 Hz (-6 dB cutoff frequency: 0.25 Hz)\n",
      "- Upper passband edge: 60.00 Hz\n",
      "- Upper transition bandwidth: 15.00 Hz (-6 dB cutoff frequency: 67.50 Hz)\n",
      "- Filter length: 1651 samples (6.604 s)\n",
      "\n"
     ]
    },
    {
     "data": {
      "text/html": [
       "<details open>\n",
       "    <summary><strong>General</strong></summary>\n",
       "    <table class=\"table table-hover table-striped table-sm table-responsive small\">\n",
       "        <tr>\n",
       "            <th>Measurement date</th>\n",
       "            \n",
       "            <td>Unknown</td>\n",
       "            \n",
       "        </tr>\n",
       "        <tr>\n",
       "            <th>Experimenter</th>\n",
       "            \n",
       "            <td>Unknown</td>\n",
       "            \n",
       "        </tr>\n",
       "        <tr>\n",
       "            <th>Participant</th>\n",
       "            \n",
       "            <td>Unknown</td>\n",
       "            \n",
       "        </tr>\n",
       "    </table>\n",
       "    </details>\n",
       "    <details open>\n",
       "        <summary><strong>Channels</strong></summary>\n",
       "        <table class=\"table table-hover table-striped table-sm table-responsive small\">\n",
       "            <tr>\n",
       "                <th>Digitized points</th>\n",
       "                \n",
       "                <td>11 points</td>\n",
       "                \n",
       "            </tr>\n",
       "            <tr>\n",
       "                <th>Good channels</th>\n",
       "                <td>8 EEG</td>\n",
       "            </tr>\n",
       "            <tr>\n",
       "                <th>Bad channels</th>\n",
       "                <td>None</td>\n",
       "            </tr>\n",
       "            <tr>\n",
       "                <th>EOG channels</th>\n",
       "                <td>Not available</td>\n",
       "            </tr>\n",
       "            <tr>\n",
       "                <th>ECG channels</th>\n",
       "                <td>Not available</td>\n",
       "            </tr>\n",
       "        </table>\n",
       "        </details>\n",
       "        <details open>\n",
       "            <summary><strong>Data</strong></summary>\n",
       "            <table class=\"table table-hover table-striped table-sm table-responsive small\">\n",
       "                \n",
       "                <tr>\n",
       "                    <th>Sampling frequency</th>\n",
       "                    <td>250.00 Hz</td>\n",
       "                </tr>\n",
       "                \n",
       "                \n",
       "                <tr>\n",
       "                    <th>Highpass</th>\n",
       "                    <td>0.50 Hz</td>\n",
       "                </tr>\n",
       "                \n",
       "                \n",
       "                <tr>\n",
       "                    <th>Lowpass</th>\n",
       "                    <td>60.00 Hz</td>\n",
       "                </tr>\n",
       "                \n",
       "                \n",
       "                \n",
       "                \n",
       "                <tr>\n",
       "                    <th>Duration</th>\n",
       "                    <td>00:43:22 (HH:MM:SS)</td>\n",
       "                </tr>\n",
       "                \n",
       "            </table>\n",
       "            </details>"
      ],
      "text/plain": [
       "<RawArray | 8 x 650288 (2601.1 s), ~39.7 MB, data loaded>"
      ]
     },
     "execution_count": 56,
     "metadata": {},
     "output_type": "execute_result"
    }
   ],
   "source": [
    "raw.filter(l_freq=0.5, h_freq=60.0)"
   ]
  },
  {
   "cell_type": "markdown",
   "id": "ec769d69-f95a-4d9c-81d2-0d9b121b3480",
   "metadata": {},
   "source": [
    "- Apply a notch filter at 50 Hz\n",
    "- This could be improved by more sophisticated methods like ZapLine\n"
   ]
  },
  {
   "cell_type": "code",
   "execution_count": 57,
   "id": "903b8212-37af-494f-b689-79d767daef0d",
   "metadata": {},
   "outputs": [
    {
     "name": "stdout",
     "output_type": "stream",
     "text": [
      "Filtering raw data in 1 contiguous segment\n",
      "Setting up band-stop filter from 49 - 51 Hz\n",
      "\n",
      "FIR filter parameters\n",
      "---------------------\n",
      "Designing a one-pass, zero-phase, non-causal bandstop filter:\n",
      "- Windowed time-domain design (firwin) method\n",
      "- Hamming window with 0.0194 passband ripple and 53 dB stopband attenuation\n",
      "- Lower passband edge: 49.38\n",
      "- Lower transition bandwidth: 0.50 Hz (-6 dB cutoff frequency: 49.12 Hz)\n",
      "- Upper passband edge: 50.62 Hz\n",
      "- Upper transition bandwidth: 0.50 Hz (-6 dB cutoff frequency: 50.88 Hz)\n",
      "- Filter length: 1651 samples (6.604 s)\n",
      "\n"
     ]
    },
    {
     "data": {
      "text/html": [
       "<details open>\n",
       "    <summary><strong>General</strong></summary>\n",
       "    <table class=\"table table-hover table-striped table-sm table-responsive small\">\n",
       "        <tr>\n",
       "            <th>Measurement date</th>\n",
       "            \n",
       "            <td>Unknown</td>\n",
       "            \n",
       "        </tr>\n",
       "        <tr>\n",
       "            <th>Experimenter</th>\n",
       "            \n",
       "            <td>Unknown</td>\n",
       "            \n",
       "        </tr>\n",
       "        <tr>\n",
       "            <th>Participant</th>\n",
       "            \n",
       "            <td>Unknown</td>\n",
       "            \n",
       "        </tr>\n",
       "    </table>\n",
       "    </details>\n",
       "    <details open>\n",
       "        <summary><strong>Channels</strong></summary>\n",
       "        <table class=\"table table-hover table-striped table-sm table-responsive small\">\n",
       "            <tr>\n",
       "                <th>Digitized points</th>\n",
       "                \n",
       "                <td>11 points</td>\n",
       "                \n",
       "            </tr>\n",
       "            <tr>\n",
       "                <th>Good channels</th>\n",
       "                <td>8 EEG</td>\n",
       "            </tr>\n",
       "            <tr>\n",
       "                <th>Bad channels</th>\n",
       "                <td>None</td>\n",
       "            </tr>\n",
       "            <tr>\n",
       "                <th>EOG channels</th>\n",
       "                <td>Not available</td>\n",
       "            </tr>\n",
       "            <tr>\n",
       "                <th>ECG channels</th>\n",
       "                <td>Not available</td>\n",
       "            </tr>\n",
       "        </table>\n",
       "        </details>\n",
       "        <details open>\n",
       "            <summary><strong>Data</strong></summary>\n",
       "            <table class=\"table table-hover table-striped table-sm table-responsive small\">\n",
       "                \n",
       "                <tr>\n",
       "                    <th>Sampling frequency</th>\n",
       "                    <td>250.00 Hz</td>\n",
       "                </tr>\n",
       "                \n",
       "                \n",
       "                <tr>\n",
       "                    <th>Highpass</th>\n",
       "                    <td>0.50 Hz</td>\n",
       "                </tr>\n",
       "                \n",
       "                \n",
       "                <tr>\n",
       "                    <th>Lowpass</th>\n",
       "                    <td>60.00 Hz</td>\n",
       "                </tr>\n",
       "                \n",
       "                \n",
       "                \n",
       "                \n",
       "                <tr>\n",
       "                    <th>Duration</th>\n",
       "                    <td>00:43:22 (HH:MM:SS)</td>\n",
       "                </tr>\n",
       "                \n",
       "            </table>\n",
       "            </details>"
      ],
      "text/plain": [
       "<RawArray | 8 x 650288 (2601.1 s), ~39.7 MB, data loaded>"
      ]
     },
     "execution_count": 57,
     "metadata": {},
     "output_type": "execute_result"
    }
   ],
   "source": [
    "raw.notch_filter(freqs=50.0)"
   ]
  },
  {
   "cell_type": "markdown",
   "id": "c10a8c8e-8bc9-404d-ab8a-8237330af177",
   "metadata": {},
   "source": [
    "### ICA\n",
    "This has to be done by visual inspection, could maybe be automated."
   ]
  },
  {
   "cell_type": "code",
   "execution_count": 58,
   "id": "da5f66ca-7427-4945-8777-5b2b65724004",
   "metadata": {},
   "outputs": [
    {
     "name": "stdout",
     "output_type": "stream",
     "text": [
      "Fitting ICA to data using 8 channels (please be patient, this may take a while)\n",
      "Selecting by number: 8 components\n",
      "Fitting ICA took 2.3s.\n",
      "Fraction of eeg variance explained by all components: 1.0\n",
      "Creating RawArray with float64 data, n_channels=8, n_times=650288\n",
      "    Range : 0 ... 650287 =      0.000 ...  2601.148 secs\n",
      "Ready.\n",
      "Channels marked as bad:\n",
      "none\n"
     ]
    },
    {
     "data": {
      "text/plain": [
       "<MNEFigure size 975x496 with 8 Axes>"
      ]
     },
     "execution_count": 58,
     "metadata": {},
     "output_type": "execute_result"
    }
   ],
   "source": [
    "from mne.preprocessing import ICA\n",
    "\n",
    "# pick some channels that clearly show blinks\n",
    "artifact_picks = mne.pick_channels(ch_names=raw.info['ch_names'], include=['Fz', 'F3', 'F4'])\n",
    "raw.plot(order=artifact_picks, n_channels=len(artifact_picks))\n",
    "\n",
    "ica = mne.preprocessing.ICA(n_components=8, max_iter=\"auto\", random_state=97)\n",
    "ica.fit(raw)\n",
    "\n",
    "explained_var_ratio = ica.get_explained_variance_ratio(raw)\n",
    "for channel_type, ratio in explained_var_ratio.items():\n",
    "  print(\n",
    "      f\"Fraction of {channel_type} variance explained by all components: \" f\"{ratio}\"\n",
    "  )\n",
    "\n",
    "raw.load_data()\n",
    "ica.plot_sources(raw)\n",
    "ica.plot_components()"
   ]
  },
  {
   "cell_type": "markdown",
   "id": "423ea27c-4c0f-421d-a697-4a20a79beee3",
   "metadata": {},
   "source": [
    "ICA001 sieht ein bisschen nach blinzeln aus, ist aber mMn nicht clean genug um excluded zu werden. Ich vermute wir würden auch andere Daten dadurch verlieren. Man könnte es probieren das würde dann so gehen:"
   ]
  },
  {
   "cell_type": "code",
   "execution_count": 48,
   "id": "93485214-68f0-45a6-8e64-a523f8ee31ff",
   "metadata": {},
   "outputs": [
    {
     "name": "stdout",
     "output_type": "stream",
     "text": [
      "Applying ICA to Raw instance\n",
      "    Transforming to ICA space (8 components)\n",
      "    Zeroing out 1 ICA component\n",
      "    Projecting back using 8 PCA components\n",
      "Filtering raw data in 1 contiguous segment\n",
      "Setting up band-pass filter from 0.1 - 30 Hz\n",
      "\n",
      "FIR filter parameters\n",
      "---------------------\n",
      "Designing a one-pass, zero-phase, non-causal bandpass filter:\n",
      "- Windowed time-domain design (firwin) method\n",
      "- Hamming window with 0.0194 passband ripple and 53 dB stopband attenuation\n",
      "- Lower passband edge: 0.10\n",
      "- Lower transition bandwidth: 0.10 Hz (-6 dB cutoff frequency: 0.05 Hz)\n",
      "- Upper passband edge: 30.00 Hz\n",
      "- Upper transition bandwidth: 7.50 Hz (-6 dB cutoff frequency: 33.75 Hz)\n",
      "- Filter length: 8251 samples (33.004 s)\n",
      "\n"
     ]
    }
   ],
   "source": [
    "# Set ICA Component To Exclude\n",
    "#ica.exclude = [1]\n",
    "#ica.apply(raw)\n",
    "\n",
    "# Narrow Bandpass Filter\n",
    "# raw = raw.filter(l_freq=0.1, h_freq=30, fir_design='firwin')"
   ]
  },
  {
   "cell_type": "markdown",
   "id": "b191ac52-d244-40aa-8986-19cdace59e62",
   "metadata": {},
   "source": [
    "## Epoching Data\n",
    "\n",
    "Hier muss jetzt der Durchgängige Datenstream in Epochen geschnitten werden. Z.B.: ausgehend von jedem event, werden zuerst 3 sekunden ignoriert (bis das Lied wirkt, und um Synchronisationsprobleme zu vermeiden), und dann 10 x 2s windows geschnitten. Dann kann man alle windows die zu einer Klasse gehören (z.B. alle wo die bewertung über 4 war = Like-Epochen), in ein \"Epochs\" Objekt packen. "
   ]
  }
 ],
 "metadata": {
  "kernelspec": {
   "display_name": "Python 3 (ipykernel)",
   "language": "python",
   "name": "python3"
  },
  "language_info": {
   "codemirror_mode": {
    "name": "ipython",
    "version": 3
   },
   "file_extension": ".py",
   "mimetype": "text/x-python",
   "name": "python",
   "nbconvert_exporter": "python",
   "pygments_lexer": "ipython3",
   "version": "3.11.4"
  }
 },
 "nbformat": 4,
 "nbformat_minor": 5
}
